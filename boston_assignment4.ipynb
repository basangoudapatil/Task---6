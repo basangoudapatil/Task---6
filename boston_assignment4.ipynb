{
  "nbformat": 4,
  "nbformat_minor": 0,
  "metadata": {
    "colab": {
      "provenance": [],
      "collapsed_sections": [],
      "authorship_tag": "ABX9TyOJmgMCFmOKrx+60udj00FN",
      "include_colab_link": true
    },
    "kernelspec": {
      "name": "python3",
      "display_name": "Python 3"
    },
    "language_info": {
      "name": "python"
    }
  },
  "cells": [
    {
      "cell_type": "markdown",
      "metadata": {
        "id": "view-in-github",
        "colab_type": "text"
      },
      "source": [
        "<a href=\"https://colab.research.google.com/github/basangoudapatil/Task-6/blob/main/boston_assignment4.ipynb\" target=\"_parent\"><img src=\"https://colab.research.google.com/assets/colab-badge.svg\" alt=\"Open In Colab\"/></a>"
      ]
    },
    {
      "cell_type": "code",
      "execution_count": 2,
      "metadata": {
        "id": "84T2Xofb4yVP"
      },
      "outputs": [],
      "source": [
        "import numpy as np\n",
        "import pandas as pd"
      ]
    },
    {
      "cell_type": "code",
      "source": [
        "phi = np.loadtxt('/content/train.csv', delimiter=',', dtype='float', skiprows=1, usecols=tuple(range(1,14)))\n",
        "display(phi[0:5])"
      ],
      "metadata": {
        "colab": {
          "base_uri": "https://localhost:8080/",
          "height": 277
        },
        "id": "6uWrRot9jb-9",
        "outputId": "0bd83484-025f-4d64-aa66-b91e78c31898"
      },
      "execution_count": 14,
      "outputs": [
        {
          "output_type": "display_data",
          "data": {
            "text/plain": [
              "array([[9.55770e-01, 0.00000e+00, 8.14000e+00, 0.00000e+00, 5.38000e-01,\n",
              "        6.04700e+00, 8.88000e+01, 4.45340e+00, 4.00000e+00, 3.07000e+02,\n",
              "        2.10000e+01, 3.06380e+02, 1.72800e+01],\n",
              "       [2.87500e-02, 2.80000e+01, 1.50400e+01, 0.00000e+00, 4.64000e-01,\n",
              "        6.21100e+00, 2.89000e+01, 3.66590e+00, 4.00000e+00, 2.70000e+02,\n",
              "        1.82000e+01, 3.96330e+02, 6.21000e+00],\n",
              "       [1.22358e+00, 0.00000e+00, 1.95800e+01, 0.00000e+00, 6.05000e-01,\n",
              "        6.94300e+00, 9.74000e+01, 1.87730e+00, 5.00000e+00, 4.03000e+02,\n",
              "        1.47000e+01, 3.63430e+02, 4.59000e+00],\n",
              "       [5.66637e+00, 0.00000e+00, 1.81000e+01, 0.00000e+00, 7.40000e-01,\n",
              "        6.21900e+00, 1.00000e+02, 2.00480e+00, 2.40000e+01, 6.66000e+02,\n",
              "        2.02000e+01, 3.95690e+02, 1.65900e+01],\n",
              "       [4.54400e-02, 0.00000e+00, 3.24000e+00, 0.00000e+00, 4.60000e-01,\n",
              "        6.14400e+00, 3.22000e+01, 5.87360e+00, 4.00000e+00, 4.30000e+02,\n",
              "        1.69000e+01, 3.68570e+02, 9.09000e+00]])"
            ]
          },
          "metadata": {}
        }
      ]
    },
    {
      "cell_type": "code",
      "source": [
        "phi_test = np.loadtxt('/content/test.csv', delimiter=',', dtype='float', skiprows=1, usecols=tuple(range(1,14)))\n",
        "display(phi_test[0:5])"
      ],
      "metadata": {
        "id": "dKDWy5LQtn0E",
        "outputId": "47eef286-ec53-44b9-a33a-dc3269d2dc81",
        "colab": {
          "base_uri": "https://localhost:8080/",
          "height": 277
        }
      },
      "execution_count": 15,
      "outputs": [
        {
          "output_type": "display_data",
          "data": {
            "text/plain": [
              "array([[1.06120e-01, 3.00000e+01, 4.93000e+00, 0.00000e+00, 4.28000e-01,\n",
              "        6.09500e+00, 6.51000e+01, 6.33610e+00, 6.00000e+00, 3.00000e+02,\n",
              "        1.66000e+01, 3.94620e+02, 1.24000e+01],\n",
              "       [3.41090e-01, 0.00000e+00, 7.38000e+00, 0.00000e+00, 4.93000e-01,\n",
              "        6.41500e+00, 4.01000e+01, 4.72110e+00, 5.00000e+00, 2.87000e+02,\n",
              "        1.96000e+01, 3.96900e+02, 6.12000e+00],\n",
              "       [1.22472e+01, 0.00000e+00, 1.81000e+01, 0.00000e+00, 5.84000e-01,\n",
              "        5.83700e+00, 5.97000e+01, 1.99760e+00, 2.40000e+01, 6.66000e+02,\n",
              "        2.02000e+01, 2.46500e+01, 1.56900e+01],\n",
              "       [2.24890e-01, 1.25000e+01, 7.87000e+00, 0.00000e+00, 5.24000e-01,\n",
              "        6.37700e+00, 9.43000e+01, 6.34670e+00, 5.00000e+00, 3.11000e+02,\n",
              "        1.52000e+01, 3.92520e+02, 2.04500e+01],\n",
              "       [1.80028e+00, 0.00000e+00, 1.95800e+01, 0.00000e+00, 6.05000e-01,\n",
              "        5.87700e+00, 7.92000e+01, 2.42590e+00, 5.00000e+00, 4.03000e+02,\n",
              "        1.47000e+01, 2.27610e+02, 1.21400e+01]])"
            ]
          },
          "metadata": {}
        }
      ]
    },
    {
      "cell_type": "code",
      "source": [
        "y = np.loadtxt('/content/train.csv', dtype='float', delimiter=',', skiprows=1, usecols=14, ndmin=2)\n",
        "display(y[0:5])"
      ],
      "metadata": {
        "colab": {
          "base_uri": "https://localhost:8080/",
          "height": 104
        },
        "id": "CZ-Zs_rqwDCE",
        "outputId": "522853ef-a5b5-4250-b15f-0251b59f85d0"
      },
      "execution_count": 16,
      "outputs": [
        {
          "output_type": "display_data",
          "data": {
            "text/plain": [
              "array([[14.8],\n",
              "       [25. ],\n",
              "       [41.3],\n",
              "       [18.4],\n",
              "       [19.8]])"
            ]
          },
          "metadata": {}
        }
      ]
    },
    {
      "cell_type": "code",
      "source": [
        "phi.shape, phi_test.shape"
      ],
      "metadata": {
        "colab": {
          "base_uri": "https://localhost:8080/"
        },
        "id": "Fj3Yk1GJw-gl",
        "outputId": "abf9da09-7757-4afb-8812-004dc8688f0a"
      },
      "execution_count": 17,
      "outputs": [
        {
          "output_type": "execute_result",
          "data": {
            "text/plain": [
              "((400, 13), (105, 13))"
            ]
          },
          "metadata": {},
          "execution_count": 17
        }
      ]
    },
    {
      "cell_type": "code",
      "source": [
        "phi_test = np.concatenate((phi_test, np.ones((105, 1))), axis=1)\n",
        "phi = np.concatenate((phi, np.ones((400, 1))), axis=1)"
      ],
      "metadata": {
        "id": "cdhMN2pdl2n7"
      },
      "execution_count": 18,
      "outputs": []
    },
    {
      "cell_type": "code",
      "source": [
        "display(phi[0:5])\n",
        "display(phi_test[0])"
      ],
      "metadata": {
        "colab": {
          "base_uri": "https://localhost:8080/",
          "height": 329
        },
        "id": "SzTN4PCRxXol",
        "outputId": "f11afd52-7b0a-455c-fbce-eeec93dcf4d7"
      },
      "execution_count": 19,
      "outputs": [
        {
          "output_type": "display_data",
          "data": {
            "text/plain": [
              "array([[9.55770e-01, 0.00000e+00, 8.14000e+00, 0.00000e+00, 5.38000e-01,\n",
              "        6.04700e+00, 8.88000e+01, 4.45340e+00, 4.00000e+00, 3.07000e+02,\n",
              "        2.10000e+01, 3.06380e+02, 1.72800e+01, 1.00000e+00],\n",
              "       [2.87500e-02, 2.80000e+01, 1.50400e+01, 0.00000e+00, 4.64000e-01,\n",
              "        6.21100e+00, 2.89000e+01, 3.66590e+00, 4.00000e+00, 2.70000e+02,\n",
              "        1.82000e+01, 3.96330e+02, 6.21000e+00, 1.00000e+00],\n",
              "       [1.22358e+00, 0.00000e+00, 1.95800e+01, 0.00000e+00, 6.05000e-01,\n",
              "        6.94300e+00, 9.74000e+01, 1.87730e+00, 5.00000e+00, 4.03000e+02,\n",
              "        1.47000e+01, 3.63430e+02, 4.59000e+00, 1.00000e+00],\n",
              "       [5.66637e+00, 0.00000e+00, 1.81000e+01, 0.00000e+00, 7.40000e-01,\n",
              "        6.21900e+00, 1.00000e+02, 2.00480e+00, 2.40000e+01, 6.66000e+02,\n",
              "        2.02000e+01, 3.95690e+02, 1.65900e+01, 1.00000e+00],\n",
              "       [4.54400e-02, 0.00000e+00, 3.24000e+00, 0.00000e+00, 4.60000e-01,\n",
              "        6.14400e+00, 3.22000e+01, 5.87360e+00, 4.00000e+00, 4.30000e+02,\n",
              "        1.69000e+01, 3.68570e+02, 9.09000e+00, 1.00000e+00]])"
            ]
          },
          "metadata": {}
        },
        {
          "output_type": "display_data",
          "data": {
            "text/plain": [
              "array([1.0612e-01, 3.0000e+01, 4.9300e+00, 0.0000e+00, 4.2800e-01,\n",
              "       6.0950e+00, 6.5100e+01, 6.3361e+00, 6.0000e+00, 3.0000e+02,\n",
              "       1.6600e+01, 3.9462e+02, 1.2400e+01, 1.0000e+00])"
            ]
          },
          "metadata": {}
        }
      ]
    },
    {
      "cell_type": "code",
      "source": [
        "from sklearn.preprocessing import MinMaxScaler\n",
        "scaler = MinMaxScaler()\n",
        "\n",
        "phi = scaler.fit_transform(phi)\n",
        "phi_test = scaler.transform(phi_test)"
      ],
      "metadata": {
        "id": "3hqaRyq0xfXk"
      },
      "execution_count": 20,
      "outputs": []
    },
    {
      "cell_type": "code",
      "source": [
        "display(phi[0:3])"
      ],
      "metadata": {
        "id": "M0uoMhH9u4_F",
        "outputId": "7067b9ea-25f6-4d98-f46c-f7a0fe4877ff",
        "colab": {
          "base_uri": "https://localhost:8080/",
          "height": 225
        }
      },
      "execution_count": 21,
      "outputs": [
        {
          "output_type": "display_data",
          "data": {
            "text/plain": [
              "array([[1.06411199e-02, 0.00000000e+00, 2.81524927e-01, 0.00000000e+00,\n",
              "        3.14814815e-01, 4.11245153e-01, 8.84654995e-01, 3.02248816e-01,\n",
              "        1.30434783e-01, 2.29007634e-01, 8.93617021e-01, 7.71748449e-01,\n",
              "        4.26074896e-01, 0.00000000e+00],\n",
              "       [2.21317669e-04, 2.94736842e-01, 5.34457478e-01, 0.00000000e+00,\n",
              "        1.62551440e-01, 4.46574752e-01, 2.67765191e-01, 2.30637725e-01,\n",
              "        1.30434783e-01, 1.58396947e-01, 5.95744681e-01, 9.98562711e-01,\n",
              "        1.19001387e-01, 0.00000000e+00],\n",
              "       [1.36513324e-02, 0.00000000e+00, 7.00879765e-01, 0.00000000e+00,\n",
              "        4.52674897e-01, 6.04265403e-01, 9.73223481e-01, 6.79918886e-02,\n",
              "        1.73913043e-01, 4.12213740e-01, 2.23404255e-01, 9.15603409e-01,\n",
              "        7.40638003e-02, 0.00000000e+00]])"
            ]
          },
          "metadata": {}
        }
      ]
    },
    {
      "cell_type": "code",
      "source": [
        "display(phi_test[0:2])"
      ],
      "metadata": {
        "id": "ktUv866yvBjW",
        "outputId": "dc6b3df6-9b52-4f68-baf9-6d58c61fd2d6",
        "colab": {
          "base_uri": "https://localhost:8080/",
          "height": 121
        }
      },
      "execution_count": 22,
      "outputs": [
        {
          "output_type": "display_data",
          "data": {
            "text/plain": [
              "array([[0.00109096, 0.31578947, 0.1638563 , 0.        , 0.08847737,\n",
              "        0.42158552, 0.64057673, 0.47345161, 0.2173913 , 0.21564885,\n",
              "        0.42553191, 0.99425084, 0.29070735, 0.        ],\n",
              "       [0.00373205, 0.        , 0.25366569, 0.        , 0.22222222,\n",
              "        0.49052133, 0.3831102 , 0.32659204, 0.17391304, 0.19083969,\n",
              "        0.74468085, 1.        , 0.11650485, 0.        ]])"
            ]
          },
          "metadata": {}
        }
      ]
    },
    {
      "cell_type": "code",
      "source": [
        "y_log = np.log(y)\n",
        "display(y_log[0:2])"
      ],
      "metadata": {
        "id": "ApwUapD2yKvH",
        "outputId": "aeed4969-0a13-4592-c013-9582f1b7971d",
        "colab": {
          "base_uri": "https://localhost:8080/",
          "height": 52
        }
      },
      "execution_count": 23,
      "outputs": [
        {
          "output_type": "display_data",
          "data": {
            "text/plain": [
              "array([[2.69462718],\n",
              "       [3.21887582]])"
            ]
          },
          "metadata": {}
        }
      ]
    },
    {
      "cell_type": "code",
      "source": [
        "def error_f(p, phi, w):\n",
        "  if p==2:\n",
        "    errorf = (2 * (np.dot(np.dot(np.transpose(phi), phi), w) - np.dot(np.transpose(phi),y)) + lambd * p * np.power(np.absolute(w),(p-1)))\n",
        "  if p < 2 and p > 1:\n",
        "    errorf = (2 * (np.dot(np.dot(np.transpose(phi), phi),w) - np.dot(np.transpose(phi), y))+ lambd * p * np.power(np.absolute(w), (p-1)) * np.sign(w))\n",
        "  return errorf"
      ],
      "metadata": {
        "id": "LXDtBCrW2StH"
      },
      "execution_count": 24,
      "outputs": []
    },
    {
      "cell_type": "code",
      "source": [
        "# Dictionary containing filenames as keys and p as values\n",
        "filenames = {\n",
        "             'result_p1.csv': 1.75,\n",
        "             'result_p2.csv': 1.5,\n",
        "             'result_p3.csv': 1.3\n",
        "             }\n",
        "\n",
        "# For each item in this dictionary\n",
        "for (fname, p) in filenames.items():\n",
        "    # Set initial w to zeros\n",
        "    w = np.zeros((14, 1))\n",
        "\n",
        "    # Hyperparameter lambda value\n",
        "    lambd = 0.2\n",
        "\n",
        "    # Maximum step size\n",
        "    t = 0.00012\n",
        "\n",
        "    # Calculate new value of w\n",
        "    w_new = w - t * error_f(p, phi, w)\n",
        "\n",
        "    i = 0\n",
        "    # Repeat steps until error between consecutive w is less than threshold\n",
        "    while(np.linalg.norm(w_new-w) > 10 ** -10):\n",
        "        w = w_new\n",
        "        w_new = w - t * error_f(p, phi, w)\n",
        "        i = i + 1\n",
        "\n",
        "    # Load values of id\n",
        "    id_test = np.loadtxt('/content/test.csv', dtype='int', delimiter=',',\n",
        "                         skiprows=1, usecols=0, ndmin=2)\n",
        "\n",
        "    # Calculate y for test data\n",
        "    y_test = np.exp(np.dot(phi_test, w_new))\n",
        "\n",
        "    # Save the ids and y\n",
        "    np.savetxt(fname, np.concatenate((id_test, y_test), axis=1),\n",
        "               delimiter=',', fmt=['%d', '%f'], header='ID,MEDV')"
      ],
      "metadata": {
        "id": "NjgYLNGH4BAF"
      },
      "execution_count": 25,
      "outputs": []
    }
  ]
}